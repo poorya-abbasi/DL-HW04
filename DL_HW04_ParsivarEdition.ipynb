{
  "nbformat": 4,
  "nbformat_minor": 0,
  "metadata": {
    "colab": {
      "name": "DL-HW04-ParsivarEdition",
      "provenance": [],
      "collapsed_sections": [],
      "include_colab_link": true
    },
    "kernelspec": {
      "name": "python3",
      "display_name": "Python 3"
    },
    "language_info": {
      "name": "python"
    }
  },
  "cells": [
    {
      "cell_type": "markdown",
      "metadata": {
        "id": "view-in-github",
        "colab_type": "text"
      },
      "source": [
        "<a href=\"https://colab.research.google.com/github/poorya-abbasi/DL-HW04/blob/main/DL_HW04_ParsivarEdition.ipynb\" target=\"_parent\"><img src=\"https://colab.research.google.com/assets/colab-badge.svg\" alt=\"Open In Colab\"/></a>"
      ]
    },
    {
      "cell_type": "markdown",
      "source": [
        "# **Preparation**"
      ],
      "metadata": {
        "id": "SCME61CP1RuE"
      }
    },
    {
      "cell_type": "code",
      "source": [
        "import pandas as pd\n",
        "import numpy as np\n",
        "import pickle\n",
        "from google.colab import drive \n",
        "print(\"Imported native libraries\")"
      ],
      "metadata": {
        "colab": {
          "base_uri": "https://localhost:8080/"
        },
        "id": "DGeNUFlajaTR",
        "outputId": "d4a2ca3b-ee00-4abe-b117-39cc329ee498"
      },
      "execution_count": null,
      "outputs": [
        {
          "output_type": "stream",
          "name": "stdout",
          "text": [
            "Imported native libraries\n"
          ]
        }
      ]
    },
    {
      "cell_type": "code",
      "source": [
        "#Config\n",
        "model = 'wapiti' #stanford - wapiti\n",
        "#External Libraries\n",
        "!pip install libwapiti\n",
        "!pip install parsivar\n",
        "from parsivar import Normalizer\n",
        "from parsivar import FindStems\n",
        "from parsivar import Tokenizer\n",
        "from parsivar import POSTagger\n",
        "from parsivar import FindChunks\n",
        "from parsivar import DependencyParser\n",
        "normalizer = Normalizer()\n",
        "tokenizer = Tokenizer()\n",
        "tagger = POSTagger(tagging_model=model)\n",
        "chunker = FindChunks()\n",
        "parser = DependencyParser()\n",
        "#Log\n",
        "print(\"Installed and imported external libraries\")"
      ],
      "metadata": {
        "colab": {
          "base_uri": "https://localhost:8080/"
        },
        "id": "KK_MvEh31Q95",
        "outputId": "16a18102-1b7e-4f48-ea3d-d08d4c6910ee"
      },
      "execution_count": null,
      "outputs": [
        {
          "output_type": "stream",
          "name": "stdout",
          "text": [
            "Looking in indexes: https://pypi.org/simple, https://us-python.pkg.dev/colab-wheels/public/simple/\n",
            "Requirement already satisfied: libwapiti in /usr/local/lib/python3.7/dist-packages (0.2.1)\n",
            "Requirement already satisfied: six in /usr/local/lib/python3.7/dist-packages (from libwapiti) (1.15.0)\n",
            "Looking in indexes: https://pypi.org/simple, https://us-python.pkg.dev/colab-wheels/public/simple/\n",
            "Requirement already satisfied: parsivar in /usr/local/lib/python3.7/dist-packages (0.2.3)\n",
            "Requirement already satisfied: nltk==3.4.5 in /usr/local/lib/python3.7/dist-packages (from parsivar) (3.4.5)\n",
            "Requirement already satisfied: six in /usr/local/lib/python3.7/dist-packages (from nltk==3.4.5->parsivar) (1.15.0)\n",
            "Installed and imported external libraries\n"
          ]
        }
      ]
    },
    {
      "cell_type": "code",
      "source": [
        "#Config\n",
        "pathToDataset='/content/drive/MyDrive/PerSICK.csv'\n",
        "#Code\n",
        "drive.mount('/content/drive')\n",
        "dataset = pd.read_csv(pathToDataset)\n",
        "print(\"Mounted to drive and read dataset with shape\",dataset.shape)"
      ],
      "metadata": {
        "colab": {
          "base_uri": "https://localhost:8080/"
        },
        "id": "q_nHmFDySB5p",
        "outputId": "f933727f-3daf-4737-8ab4-fb3b9b2ed9a0"
      },
      "execution_count": null,
      "outputs": [
        {
          "output_type": "stream",
          "name": "stdout",
          "text": [
            "Drive already mounted at /content/drive; to attempt to forcibly remount, call drive.mount(\"/content/drive\", force_remount=True).\n",
            "Mounted to drive and read dataset with shape (3102, 3)\n"
          ]
        }
      ]
    },
    {
      "cell_type": "code",
      "source": [
        "testText = 'یک کودک خردسال در حال بالا رفتن از یک دیوار سنگ نوردی است که در داخل خانه قرار دارد'\n",
        "testNormalizedText = normalizer.normalize(testText)\n",
        "testSents = tokenizer.tokenize_sentences(testNormalizedText)\n",
        "testParsed = parser.parse_sents(testSents)\n",
        "result = \"\"\n",
        "for dg in testParsed:\n",
        "  for head, rel, dep in dg.triples():\n",
        "    if rel == \"SBJ\":\n",
        "      result = dep[0]\n",
        "      break\n",
        "print(\"Running an automated test to check if Subject detection is working correctly\")\n",
        "print(\"Detecting Subject for\",testText)\n",
        "expected = 'کودک'\n",
        "print(\"Detected Subject\",result,\"which is\",result==expected)\n",
        "if(result==expected):\n",
        "  print(\"Test passed!\")\n",
        "else:\n",
        "  print(\"Test failed!\")"
      ],
      "metadata": {
        "colab": {
          "base_uri": "https://localhost:8080/"
        },
        "id": "mYQx-OeFT-8T",
        "outputId": "fe34cea7-d66e-46a3-d910-0ff98ed99c92"
      },
      "execution_count": null,
      "outputs": [
        {
          "output_type": "stream",
          "name": "stdout",
          "text": [
            "Running an automated test to check if Subject detection is working correctly\n",
            "Detecting Subject for یک کودک خردسال در حال بالا رفتن از یک دیوار سنگ نوردی است که در داخل خانه قرار دارد\n",
            "Detected Subject کودک which is True\n",
            "Test passed!\n"
          ]
        }
      ]
    },
    {
      "cell_type": "code",
      "source": [
        "#Config\n",
        "stopAtIndex = 10 #Set to -1 to never stop\n",
        "#Code\n",
        "for index, row in dataset.iterrows():\n",
        "  if index == stopAtIndex : break\n",
        "  text = row[1]\n",
        "  try:\n",
        "    normalized = normalizer.normalize(text)\n",
        "    sents = tokenizer.tokenize_sentences(normalized)\n",
        "    parsed = parser.parse_sents(sents)\n",
        "    for dg in parsed:\n",
        "      for head, rel, dep in dg.triples():\n",
        "        if rel == \"SBJ\":\n",
        "          print(dep[0],\"for \",normalized)\n",
        "    print(\"--------\")\n",
        "  except:\n",
        "    print(\"Parsing failed for index\",index)\n",
        "    print(\"--------\")"
      ],
      "metadata": {
        "id": "TORY77Uf1ZKD",
        "colab": {
          "base_uri": "https://localhost:8080/"
        },
        "outputId": "b266a68c-a138-414e-a647-2ba7faba6e12"
      },
      "execution_count": 10,
      "outputs": [
        {
          "output_type": "stream",
          "name": "stdout",
          "text": [
            "گروهی for  گروهی از بچه‌ها در حیاط بازی می‌کنند و پیرمردی در پس زمینه ایستاده است\n",
            "پیرمردی for  گروهی از بچه‌ها در حیاط بازی می‌کنند و پیرمردی در پس زمینه ایستاده است\n",
            "زمینه for  گروهی از بچه‌ها در حیاط بازی می‌کنند و پیرمردی در پس زمینه ایستاده است\n",
            "--------\n",
            "گروهی for  گروهی از کودکان در خانه مشغول بازی هستند و هیچ مردی در پس زمینه ایستاده نیست\n",
            "مردی for  گروهی از کودکان در خانه مشغول بازی هستند و هیچ مردی در پس زمینه ایستاده نیست\n",
            "--------\n",
            "پسران for  پسران جوان در فضای باز بازی می‌کنند و مرد در همان نزدیکی لبخند می‌زند\n",
            "مرد for  پسران جوان در فضای باز بازی می‌کنند و مرد در همان نزدیکی لبخند می‌زند\n",
            "--------\n",
            "بچه‌ها for  بچه‌ها در بیرون از خانه و در کنار یک مرد با لبخند بازی می‌کنند\n",
            "--------\n",
            "پسران for  پسران جوان در فضای باز بازی می‌کنند و مرد در همان نزدیکی لبخند می‌زند\n",
            "مرد for  پسران جوان در فضای باز بازی می‌کنند و مرد در همان نزدیکی لبخند می‌زند\n",
            "--------\n",
            "سگ for  دو سگ با هم دعوا می‌کنند\n",
            "--------\n",
            "Parsing failed for index 6\n",
            "--------\n",
            "--------\n",
            "زن for  دو زن جوان در یک مبارزه کیک بوکسینگ به مصاف هم می‌روند\n",
            "--------\n",
            "نفر for  دو نفر در حال کیک بوکسینگ هستند و تماشاگران در حال تماشای آن هستند\n",
            "تماشاگران for  دو نفر در حال کیک بوکسینگ هستند و تماشاگران در حال تماشای آن هستند\n",
            "--------\n"
          ]
        }
      ]
    }
  ]
}