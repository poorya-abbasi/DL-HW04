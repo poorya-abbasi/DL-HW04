{
  "nbformat": 4,
  "nbformat_minor": 0,
  "metadata": {
    "colab": {
      "name": "DL-HW04-HazmEdition",
      "provenance": [],
      "collapsed_sections": [],
      "include_colab_link": true
    },
    "kernelspec": {
      "name": "python3",
      "display_name": "Python 3"
    },
    "language_info": {
      "name": "python"
    }
  },
  "cells": [
    {
      "cell_type": "markdown",
      "metadata": {
        "id": "view-in-github",
        "colab_type": "text"
      },
      "source": [
        "<a href=\"https://colab.research.google.com/github/poorya-abbasi/DL-HW04/blob/main/DL_HW04_HazmEdition.ipynb\" target=\"_parent\"><img src=\"https://colab.research.google.com/assets/colab-badge.svg\" alt=\"Open In Colab\"/></a>"
      ]
    },
    {
      "cell_type": "markdown",
      "source": [
        "# **Preparation**"
      ],
      "metadata": {
        "id": "SCME61CP1RuE"
      }
    },
    {
      "cell_type": "code",
      "source": [
        "import os\n",
        "import pandas as pd\n",
        "import numpy as np\n",
        "import pickle\n",
        "from google.colab import drive \n",
        "print(\"Imported native libraries\")"
      ],
      "metadata": {
        "colab": {
          "base_uri": "https://localhost:8080/"
        },
        "id": "DGeNUFlajaTR",
        "outputId": "ed20543f-ee01-4a1c-a46d-14dcc0b4d390"
      },
      "execution_count": 4,
      "outputs": [
        {
          "output_type": "stream",
          "name": "stdout",
          "text": [
            "Imported native libraries\n"
          ]
        }
      ]
    },
    {
      "cell_type": "code",
      "source": [
        "#Config\n",
        "model = 'resources/postagger.model'\n",
        "chunkerModel = 'resources/chunker.model'\n",
        "#External Libraries\n",
        "!pip install hazm\n",
        "!mkdir -p resources\n",
        "!wget -q \"https://github.com/sobhe/hazm/releases/download/v0.5/resources-0.5.zip\" -P resources\n",
        "!unzip -f -qq resources/resources-0.5.zip -d resources\n",
        "from __future__ import unicode_literals\n",
        "from hazm import *\n",
        "normalizer = Normalizer()\n",
        "tagger = POSTagger(model=model)\n",
        "chunker = Chunker(model=chunkerModel)\n",
        "lemmatizer = Lemmatizer()\n",
        "parser = DependencyParser(tagger=tagger, lemmatizer=lemmatizer)\n",
        "#Log\n",
        "print(\"Installed and imported external libraries\")"
      ],
      "metadata": {
        "colab": {
          "base_uri": "https://localhost:8080/"
        },
        "id": "KK_MvEh31Q95",
        "outputId": "896db229-769e-4768-95cd-ab78cd46d4e0"
      },
      "execution_count": 15,
      "outputs": [
        {
          "output_type": "stream",
          "name": "stdout",
          "text": [
            "Looking in indexes: https://pypi.org/simple, https://us-python.pkg.dev/colab-wheels/public/simple/\n",
            "Requirement already satisfied: hazm in /usr/local/lib/python3.7/dist-packages (0.7.0)\n",
            "Requirement already satisfied: libwapiti>=0.2.1 in /usr/local/lib/python3.7/dist-packages (from hazm) (0.2.1)\n",
            "Requirement already satisfied: nltk==3.3 in /usr/local/lib/python3.7/dist-packages (from hazm) (3.3)\n",
            "Requirement already satisfied: six in /usr/local/lib/python3.7/dist-packages (from nltk==3.3->hazm) (1.15.0)\n",
            "Installed and imported external libraries\n"
          ]
        }
      ]
    },
    {
      "cell_type": "code",
      "source": [
        "#Config\n",
        "pathToDataset='/content/drive/MyDrive/PerSICK.csv'\n",
        "#Code\n",
        "drive.mount('/content/drive')\n",
        "dataset = pd.read_csv(pathToDataset)\n",
        "print(\"Mounted to drive and read dataset with shape\",dataset.shape)"
      ],
      "metadata": {
        "colab": {
          "base_uri": "https://localhost:8080/"
        },
        "id": "q_nHmFDySB5p",
        "outputId": "518ead53-5eac-47b7-892b-8d37803bbc2b"
      },
      "execution_count": 16,
      "outputs": [
        {
          "output_type": "stream",
          "name": "stdout",
          "text": [
            "Mounted at /content/drive\n",
            "Mounted to drive and read dataset with shape (3102, 3)\n"
          ]
        }
      ]
    },
    {
      "cell_type": "code",
      "source": [
        "testText = 'یک کودک خردسال در حال بالا رفتن از یک دیوار سنگ نوردی است که در داخل خانه قرار دارد'\n",
        "testNormalizedText = normalizer.normalize(testText)\n",
        "testSents = sent_tokenize(testNormalizedText)\n",
        "result = \"\"\n",
        "for sent in testSents:\n",
        "  dg = parser.parse(word_tokenize(sent))\n",
        "  for head, rel, dep in dg.triples():\n",
        "    if rel == \"SBJ\":\n",
        "      result = dep[0]\n",
        "      break\n",
        "print(\"Running an automated test to check if Subject detection is working correctly\")\n",
        "print(\"Detecting Subject for\",testText)\n",
        "expected = 'کودک'\n",
        "print(\"Detected Subject\",result,\"which is\",result==expected)\n",
        "if(result==expected):\n",
        "  print(\"Test passed!\")\n",
        "else:\n",
        "  print(\"Test failed!\")"
      ],
      "metadata": {
        "colab": {
          "base_uri": "https://localhost:8080/"
        },
        "id": "mYQx-OeFT-8T",
        "outputId": "7cdf397b-d443-4965-feb9-3151cee8edae"
      },
      "execution_count": 20,
      "outputs": [
        {
          "output_type": "stream",
          "name": "stdout",
          "text": [
            "Running an automated test to check if Subject detection is working correctly\n",
            "Detecting Subject for یک کودک خردسال در حال بالا رفتن از یک دیوار سنگ نوردی است که در داخل خانه قرار دارد\n",
            "Detected Subject کودک which is True\n",
            "Test passed!\n"
          ]
        }
      ]
    },
    {
      "cell_type": "code",
      "source": [
        "#Config\n",
        "stopAtIndex = 10 #Set to -1 to never stop\n",
        "#Code\n",
        "for index, row in dataset.iterrows():\n",
        "  if index == stopAtIndex : break\n",
        "  text = row[1]\n",
        "  try:\n",
        "    normalized = normalizer.normalize(text)\n",
        "    sents = sent_tokenize(normalized)\n",
        "    for sent in sents:\n",
        "      dg = parser.parse(word_tokenize(sent))\n",
        "      for head, rel, dep in dg.triples():\n",
        "        if rel == \"SBJ\":\n",
        "          print(dep[0],\"for \",normalized)\n",
        "    print(\"--------\")\n",
        "  except:\n",
        "    print(\"Parsing failed for index\",index)\n",
        "    print(\"--------\")"
      ],
      "metadata": {
        "id": "TORY77Uf1ZKD",
        "colab": {
          "base_uri": "https://localhost:8080/"
        },
        "outputId": "471f35db-7733-4344-8b5a-c7effa12cdf7"
      },
      "execution_count": 22,
      "outputs": [
        {
          "output_type": "stream",
          "name": "stdout",
          "text": [
            "گروهی for  گروهی از بچه‌ها در حیاط بازی می‌کنند و پیرمردی در پس زمینه ایستاده است\n",
            "پیرمردی for  گروهی از بچه‌ها در حیاط بازی می‌کنند و پیرمردی در پس زمینه ایستاده است\n",
            "--------\n",
            "گروهی for  گروهی از کودکان در خانه مشغول بازی هستند و هیچ مردی در پس زمینه ایستاده نیست\n",
            "مردی for  گروهی از کودکان در خانه مشغول بازی هستند و هیچ مردی در پس زمینه ایستاده نیست\n",
            "--------\n",
            "پسران for  پسران جوان در فضای باز بازی می‌کنند و مرد در همان نزدیکی لبخند می‌زند\n",
            "مرد for  پسران جوان در فضای باز بازی می‌کنند و مرد در همان نزدیکی لبخند می‌زند\n",
            "--------\n",
            "بچه‌ها for  بچه‌ها در بیرون از خانه و در کنار یک مرد با لبخند بازی می‌کنند\n",
            "--------\n",
            "پسران for  پسران جوان در فضای باز بازی می‌کنند و مرد در همان نزدیکی لبخند می‌زند\n",
            "مرد for  پسران جوان در فضای باز بازی می‌کنند و مرد در همان نزدیکی لبخند می‌زند\n",
            "--------\n",
            "سگ for  دو سگ با هم دعوا می‌کنند\n",
            "--------\n",
            "Parsing failed for index 6\n",
            "--------\n",
            "کیک for  دو نفر کیک بوکسینگ می‌کنند و تماشاگران تماشا نمی‌کنند\n",
            "تماشاگران for  دو نفر کیک بوکسینگ می‌کنند و تماشاگران تماشا نمی‌کنند\n",
            "--------\n",
            "زن for  دو زن جوان در یک مبارزه کیک بوکسینگ به مصاف هم می‌روند\n",
            "--------\n",
            "نفر for  دو نفر در حال کیک بوکسینگ هستند و تماشاگران در حال تماشای آن هستند\n",
            "تماشاگران for  دو نفر در حال کیک بوکسینگ هستند و تماشاگران در حال تماشای آن هستند\n",
            "--------\n"
          ]
        }
      ]
    }
  ]
}